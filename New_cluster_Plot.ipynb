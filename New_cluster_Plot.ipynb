{
 "cells": [
  {
   "cell_type": "code",
   "execution_count": 1,
   "metadata": {},
   "outputs": [],
   "source": [
    "import pickle\n",
    "from proteinclustertools.layout.circle_layout_tools import Box2DLayout\n",
    "import re\n",
    "import os\n",
    "import pandas as pd"
   ]
  },
  {
   "cell_type": "code",
   "execution_count": 6,
   "metadata": {},
   "outputs": [
    {
     "name": "stdout",
     "output_type": "stream",
     "text": [
      "['100', '200', '300', '400', '500', '600', '700']\n"
     ]
    }
   ],
   "source": [
    "data_dir='cluster_stream_res/' # could be mmseqs_clustering, kmeans, hierarchical_clustering\n",
    "\n",
    "# alternative examples for other clustering outputs\n",
    "# data_dir='../output/kmeans/flattened_10000/' # for kmeans\n",
    "# data_dir='../output/hierarchical_clustering/' # for hierarchical clustering\n",
    "\n",
    "data_sets={}\n",
    "for f in os.listdir(data_dir):\n",
    "    if f.endswith('.csv'):\n",
    "        cutoff=f.split('_')[-1][:-4]\n",
    "        data_sets[cutoff]=data_dir+f\n",
    "\n",
    "# sort the data sets by cutoff\n",
    "data_sets={k: data_sets[k] for k in sorted(data_sets, key=lambda x: float(x))}\n",
    "cutoffs=list(data_sets.keys())\n",
    "print(cutoffs)"
   ]
  },
  {
   "cell_type": "markdown",
   "metadata": {},
   "source": [
    "Load all the data sets (cluster definitions) into one file, with the cut-offs as the column headers.\n"
   ]
  },
  {
   "cell_type": "code",
   "execution_count": 7,
   "metadata": {},
   "outputs": [
    {
     "data": {
      "text/html": [
       "<div>\n",
       "<style scoped>\n",
       "    .dataframe tbody tr th:only-of-type {\n",
       "        vertical-align: middle;\n",
       "    }\n",
       "\n",
       "    .dataframe tbody tr th {\n",
       "        vertical-align: top;\n",
       "    }\n",
       "\n",
       "    .dataframe thead th {\n",
       "        text-align: right;\n",
       "    }\n",
       "</style>\n",
       "<table border=\"1\" class=\"dataframe\">\n",
       "  <thead>\n",
       "    <tr style=\"text-align: right;\">\n",
       "      <th></th>\n",
       "      <th>id</th>\n",
       "      <th>200</th>\n",
       "      <th>400</th>\n",
       "      <th>500</th>\n",
       "    </tr>\n",
       "  </thead>\n",
       "  <tbody>\n",
       "    <tr>\n",
       "      <th>0</th>\n",
       "      <td>A0A072UR65</td>\n",
       "      <td>0</td>\n",
       "      <td>0</td>\n",
       "      <td>9</td>\n",
       "    </tr>\n",
       "    <tr>\n",
       "      <th>1</th>\n",
       "      <td>A0A072VEP0</td>\n",
       "      <td>0</td>\n",
       "      <td>0</td>\n",
       "      <td>10</td>\n",
       "    </tr>\n",
       "    <tr>\n",
       "      <th>2</th>\n",
       "      <td>A0A0A2J9B0</td>\n",
       "      <td>0</td>\n",
       "      <td>0</td>\n",
       "      <td>0</td>\n",
       "    </tr>\n",
       "    <tr>\n",
       "      <th>3</th>\n",
       "      <td>A0A0A2JP37</td>\n",
       "      <td>0</td>\n",
       "      <td>0</td>\n",
       "      <td>0</td>\n",
       "    </tr>\n",
       "    <tr>\n",
       "      <th>4</th>\n",
       "      <td>A0A0A2JVV3</td>\n",
       "      <td>0</td>\n",
       "      <td>0</td>\n",
       "      <td>0</td>\n",
       "    </tr>\n",
       "  </tbody>\n",
       "</table>\n",
       "</div>"
      ],
      "text/plain": [
       "           id 200 400 500\n",
       "0  A0A072UR65   0   0   9\n",
       "1  A0A072VEP0   0   0  10\n",
       "2  A0A0A2J9B0   0   0   0\n",
       "3  A0A0A2JP37   0   0   0\n",
       "4  A0A0A2JVV3   0   0   0"
      ]
     },
     "execution_count": 7,
     "metadata": {},
     "output_type": "execute_result"
    }
   ],
   "source": [
    "levels=['200','400','500']\n",
    "levels\n",
    "for cutoff in levels:\n",
    "    clu=pd.read_csv(data_sets[cutoff], dtype=str)\n",
    "    clu=clu.rename(columns={'cluster':cutoff})\n",
    "    clu=clu.set_index('id')\n",
    "    if cutoff==levels[0]:\n",
    "        clust=clu\n",
    "    else:\n",
    "        clust=clust.join(clu, how='outer')\n",
    "clust.reset_index(inplace=True)\n",
    "clust.head()"
   ]
  },
  {
   "cell_type": "markdown",
   "metadata": {},
   "source": [
    "Get a sense of how many clusters should be visualized."
   ]
  },
  {
   "cell_type": "code",
   "execution_count": 9,
   "metadata": {},
   "outputs": [
    {
     "name": "stdout",
     "output_type": "stream",
     "text": [
      "level 200 : 4 clusters with at least 2 members\n",
      "level 400 : 4 clusters with at least 2 members\n",
      "level 500 : 9 clusters with at least 2 members\n"
     ]
    }
   ],
   "source": [
    "test_cutoff=2 # minimum number of members in a cluster to be visualized\n",
    "\n",
    "for level in levels:\n",
    "    sizes=clust.groupby(level).size()\n",
    "    print('level', level, ':', sum(sizes>=test_cutoff), 'clusters with at least', test_cutoff, 'members')"
   ]
  },
  {
   "cell_type": "code",
   "execution_count": null,
   "metadata": {},
   "outputs": [],
   "source": []
  }
 ],
 "metadata": {
  "kernelspec": {
   "display_name": "bio",
   "language": "python",
   "name": "python3"
  },
  "language_info": {
   "codemirror_mode": {
    "name": "ipython",
    "version": 3
   },
   "file_extension": ".py",
   "mimetype": "text/x-python",
   "name": "python",
   "nbconvert_exporter": "python",
   "pygments_lexer": "ipython3",
   "version": "3.8.18"
  }
 },
 "nbformat": 4,
 "nbformat_minor": 2
}
